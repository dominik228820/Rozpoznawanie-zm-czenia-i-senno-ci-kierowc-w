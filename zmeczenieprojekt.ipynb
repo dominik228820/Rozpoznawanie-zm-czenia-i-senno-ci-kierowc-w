{
 "cells": [
  {
   "cell_type": "code",
   "execution_count": 6,
   "id": "6410994f-55b5-4ba6-bc91-464f5fb92236",
   "metadata": {
    "scrolled": true
   },
   "outputs": [],
   "source": [
    "# Importowanie wymaganych bibliotek\n",
    "import cv2  # OpenCV - biblioteka do przetwarzania obrazu\n",
    "import dlib  # Biblioteka do detekcji twarzy i analizy punktów charakterystycznych\n",
    "import numpy as np  # Obsługa operacji na macierzach\n",
    "import imutils  # Pomocnicze operacje na obrazach (np. zmiana rozmiaru)\n",
    "import tensorflow as tf  # Biblioteka do uczenia maszynowego (nie jest używana w kodzie)\n",
    "from tensorflow.keras.models import load_model  # Ładowanie modeli sieci neuronowych (ale nie jest używane)\n",
    "import matplotlib.pyplot as plt  # Biblioteka do wizualizacji\n",
    "from scipy.spatial import distance as dist  # Obliczanie odległości euklidesowej\n",
    "\n",
    "# Inicjalizacja detektora twarzy\n",
    "detector = dlib.get_frontal_face_detector()\n",
    "\n",
    "# Wczytanie modelu predykcji punktów charakterystycznych twarzy (oczy, usta, nos)\n",
    "predictor = dlib.shape_predictor(\"C:\\\\Users\\\\Administrator\\\\projektzmeczenie\\\\shape_predictor_68_face_landmarks.dat\")\n",
    "\n",
    "# Inicjalizacja kamery (0 oznacza domyślną kamerę)\n",
    "cap = cv2.VideoCapture(0)\n",
    "\n",
    "# Funkcja obliczająca Eye Aspect Ratio (EAR) - wskaźnik zamknięcia oczu\n",
    "def eye_aspect_ratio(eye):\n",
    "    A = dist.euclidean(eye[1], eye[5])  # Odległość między górną i dolną powieką (wewnętrzna część oka)\n",
    "    B = dist.euclidean(eye[2], eye[4])  # Odległość między górną i dolną powieką (zewnętrzna część oka)\n",
    "    C = dist.euclidean(eye[0], eye[3])  # Odległość między kącikami oka\n",
    "    return (A + B) / (2.0 * C)  # Wskaźnik EAR - im niższy, tym bardziej zamknięte oczy\n",
    "\n",
    "# Parametry dla detekcji zmęczenia\n",
    "EYE_AR_THRESH = 0.25  # Próg zamknięcia oczu - jeśli EAR jest niższe, oczy są zamknięte\n",
    "EYE_AR_CONSEC_FRAMES = 20  # Liczba klatek, po których uznamy senność kierowcy\n",
    "\n",
    "# Licznik mrugnięć i flaga ostrzeżenia\n",
    "blink_counter = 0\n",
    "drowsy_alert = False  # Flaga wykrycia senności\n",
    "\n",
    "while True:\n",
    "    # Pobranie klatki obrazu z kamery\n",
    "    ret, frame = cap.read()\n",
    "    if not ret:  # Jeśli nie udało się pobrać klatki, przerwij pętlę\n",
    "        break\n",
    "\n",
    "    # Konwersja obrazu na skalę szarości (lepsza detekcja)\n",
    "    gray = cv2.cvtColor(frame, cv2.COLOR_BGR2GRAY)\n",
    "\n",
    "    # Wykrywanie twarzy w obrazie\n",
    "    faces = detector(gray)\n",
    "\n",
    "    for face in faces:\n",
    "        # Pobranie punktów charakterystycznych twarzy (oczy, nos, usta)\n",
    "        landmarks = predictor(gray, face)\n",
    "\n",
    "        # Pobranie współrzędnych punktów dla lewego oka (indeksy 36-41)\n",
    "        left_eye = np.array([(landmarks.part(i).x, landmarks.part(i).y) for i in range(36, 42)])\n",
    "\n",
    "        # Pobranie współrzędnych punktów dla prawego oka (indeksy 42-47)\n",
    "        right_eye = np.array([(landmarks.part(i).x, landmarks.part(i).y) for i in range(42, 48)])\n",
    "\n",
    "        # Obliczenie wskaźnika EAR dla obu oczu\n",
    "        left_EAR = eye_aspect_ratio(left_eye)\n",
    "        right_EAR = eye_aspect_ratio(right_eye)\n",
    "        EAR = (left_EAR + right_EAR) / 2.0  # Średnia wartość EAR dla obu oczu\n",
    "\n",
    "        # Sprawdzenie, czy oczy są zamknięte (EAR poniżej progu)\n",
    "        if EAR < EYE_AR_THRESH:\n",
    "            blink_counter += 1  # Zwiększenie licznika zamkniętych oczu\n",
    "        else:\n",
    "            # Jeśli oczy były zamknięte przez określoną liczbę klatek, uznajemy senność\n",
    "            if blink_counter >= EYE_AR_CONSEC_FRAMES:\n",
    "                drowsy_alert = True\n",
    "            blink_counter = 0  # Zerowanie licznika mrugnięć\n",
    "\n",
    "    # Wyświetlenie statusu senności na ekranie\n",
    "    cv2.putText(frame, f\"Sleepy: {drowsy_alert}\", (10, 30),\n",
    "                cv2.FONT_HERSHEY_SIMPLEX, 0.7, (0, 0, 255), 2)\n",
    "\n",
    "    # Wyświetlenie obrazu z kamery\n",
    "    cv2.imshow(\"Kamera\", frame)\n",
    "\n",
    "    # Przerwanie działania programu po naciśnięciu 'q'\n",
    "    if cv2.waitKey(1) & 0xFF == ord('q'):\n",
    "        break\n",
    "\n",
    "# Zwolnienie kamery i zamknięcie okien\n",
    "cap.release()\n",
    "cv2.destroyAllWindows()\n"
   ]
  },
  {
   "cell_type": "code",
   "execution_count": 19,
   "id": "460a34f3-6550-411b-b646-2634fa71995e",
   "metadata": {
    "scrolled": true
   },
   "outputs": [
    {
     "name": "stderr",
     "output_type": "stream",
     "text": [
      "warning: in the working copy of 'zmeczenieprojekt.ipynb', LF will be replaced by CRLF the next time Git touches it\n"
     ]
    }
   ],
   "source": [
    "!git add .\n"
   ]
  },
  {
   "cell_type": "code",
   "execution_count": null,
   "id": "13f63afa-5076-48f6-9235-91cff0c3b733",
   "metadata": {},
   "outputs": [],
   "source": []
  }
 ],
 "metadata": {
  "kernelspec": {
   "display_name": "Python (opencv)",
   "language": "python",
   "name": "opencv"
  },
  "language_info": {
   "codemirror_mode": {
    "name": "ipython",
    "version": 3
   },
   "file_extension": ".py",
   "mimetype": "text/x-python",
   "name": "python",
   "nbconvert_exporter": "python",
   "pygments_lexer": "ipython3",
   "version": "3.9.15"
  }
 },
 "nbformat": 4,
 "nbformat_minor": 5
}
