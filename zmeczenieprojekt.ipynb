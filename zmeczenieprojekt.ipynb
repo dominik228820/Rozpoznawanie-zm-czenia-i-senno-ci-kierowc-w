{
 "cells": [
  {
   "cell_type": "code",
   "execution_count": 4,
   "id": "6410994f-55b5-4ba6-bc91-464f5fb92236",
   "metadata": {
    "scrolled": true
   },
   "outputs": [
    {
     "name": "stdout",
     "output_type": "stream",
     "text": [
      "Analiza zakończona. Wyniki zapisane do results.csv\n",
      "Analiza zakończona. Wyniki zapisane do results.csv\n",
      "Nie wybrano pliku.\n"
     ]
    }
   ],
   "source": [
    "import cv2  # OpenCV - biblioteka do przetwarzania obrazu\n",
    "import dlib  # Biblioteka do detekcji twarzy i analizy punktów charakterystycznych\n",
    "import numpy as np  # Obsługa operacji na macierzach\n",
    "import imutils  # Pomocnicze operacje na obrazach (np. zmiana rozmiaru)\n",
    "import os\n",
    "import pandas as pd\n",
    "import tkinter as tk\n",
    "from tkinter import filedialog, simpledialog\n",
    "import matplotlib.pyplot as plt  # Biblioteka do wizualizacji\n",
    "from scipy.spatial import distance as dist  # Obliczanie odległości euklidesowej\n",
    "\n",
    "def eye_aspect_ratio(eye):\n",
    "    A = dist.euclidean(eye[1], eye[5])\n",
    "    B = dist.euclidean(eye[2], eye[4])\n",
    "    C = dist.euclidean(eye[0], eye[3])\n",
    "    return (A + B) / (2.0 * C)\n",
    "\n",
    "EYE_AR_THRESH = 0.25\n",
    "EYE_AR_CONSEC_FRAMES = 20\n",
    "blink_counter = 0\n",
    "drowsy_alert = False\n",
    "FRAME_WIDTH = 640\n",
    "FRAME_HEIGHT = 480\n",
    "frame_skip = 5\n",
    "frames_folder = \"frames\"\n",
    "os.makedirs(frames_folder, exist_ok=True)\n",
    "\n",
    "def start_analysis(source):\n",
    "    global blink_counter, drowsy_alert  \n",
    "    blink_counter = 0  \n",
    "    drowsy_alert = False  \n",
    "\n",
    "    if source == \"Kamera\":\n",
    "        cap = cv2.VideoCapture(0)\n",
    "    elif source == \"Wideo\":  # Poprawione! elif przed else\n",
    "        video_path = filedialog.askopenfilename(title=\"Wybierz plik wideo\", filetypes=[(\"Pliki MOV\", \"*.MOV\")])\n",
    "        if video_path:  # Sprawdzenie, czy użytkownik wybrał plik\n",
    "            cap = cv2.VideoCapture(video_path)\n",
    "        else:\n",
    "            print(\"Nie wybrano pliku.\")\n",
    "            return\n",
    "    else:\n",
    "        print(\"Niepoprawny wybór.\")\n",
    "        return\n",
    "    \n",
    "    detector = dlib.get_frontal_face_detector()\n",
    "    predictor = dlib.shape_predictor(\"C:\\\\Users\\\\Administrator\\\\projektzmeczenie\\\\shape_predictor_68_face_landmarks.dat\")\n",
    "    \n",
    "    results = []\n",
    "    frame_count = 0\n",
    "    \n",
    "    while cap.isOpened():\n",
    "        ret, frame = cap.read()\n",
    "        if not ret:\n",
    "            break\n",
    "        \n",
    "        if frame_count % frame_skip == 0:\n",
    "            frame_path = os.path.join(frames_folder, f\"frame_{frame_count}.jpg\")\n",
    "            cv2.imwrite(frame_path, frame)\n",
    "            gray = cv2.cvtColor(frame, cv2.COLOR_BGR2GRAY)\n",
    "            faces = detector(gray)\n",
    "            EAR = 0\n",
    "\n",
    "            for face in faces:\n",
    "                landmarks = predictor(gray, face)\n",
    "                left_eye = np.array([(landmarks.part(i).x, landmarks.part(i).y) for i in range(36, 42)])\n",
    "                right_eye = np.array([(landmarks.part(i).x, landmarks.part(i).y) for i in range(42, 48)])\n",
    "                left_EAR = eye_aspect_ratio(left_eye)\n",
    "                right_EAR = eye_aspect_ratio(right_eye)\n",
    "                EAR = (left_EAR + right_EAR) / 2.0\n",
    "                \n",
    "                if EAR < EYE_AR_THRESH:\n",
    "                    blink_counter += 1\n",
    "                else:\n",
    "                    if blink_counter >= EYE_AR_CONSEC_FRAMES:\n",
    "                        drowsy_alert = True\n",
    "                    blink_counter = 0\n",
    "            \n",
    "            results.append([frame_count, frame_path, EAR, drowsy_alert])\n",
    "            frame_resized = cv2.resize(frame, (FRAME_WIDTH, FRAME_HEIGHT))\n",
    "            cv2.putText(frame_resized, f\"Sleepy: {drowsy_alert}\", (10, 30),\n",
    "                        cv2.FONT_HERSHEY_SIMPLEX, 0.7, (0, 0, 255), 2)\n",
    "            cv2.imshow(\"Analiza Zmęczenia\", frame_resized)\n",
    "            \n",
    "            if cv2.waitKey(1) & 0xFF == ord('q'):\n",
    "                break\n",
    "        \n",
    "        frame_count += 1\n",
    "    \n",
    "    cap.release()\n",
    "    cv2.destroyAllWindows()\n",
    "    \n",
    "    df = pd.DataFrame(results, columns=[\"Frame\", \"Path\", \"EAR\", \"Drowsy\"])\n",
    "    df.to_csv(\"results.csv\", index=False)\n",
    "    print(\"Analiza zakończona. Wyniki zapisane do results.csv\")\n",
    "\n",
    "root = tk.Tk()\n",
    "root.title(\"Wybór źródła wideo\")\n",
    "root.geometry(\"300x150\")\n",
    "\n",
    "tk.Label(root, text=\"Wybierz źródło wideo:\").pack(pady=10)\n",
    "source_var = tk.StringVar()\n",
    "source_var.set(\"Kamera\")\n",
    "\n",
    "dropdown = tk.OptionMenu(root, source_var, \"Kamera\", \"Wideo\")\n",
    "dropdown.pack(pady=5)\n",
    "\n",
    "tk.Button(root, text=\"Start\", command=lambda: start_analysis(source_var.get())).pack(pady=10)\n",
    "root.mainloop()"
   ]
  },
  {
   "cell_type": "code",
   "execution_count": 5,
   "id": "460a34f3-6550-411b-b646-2634fa71995e",
   "metadata": {
    "scrolled": true
   },
   "outputs": [
    {
     "name": "stderr",
     "output_type": "stream",
     "text": [
      "warning: in the working copy of '.ipynb_checkpoints/zmeczenieprojekt-checkpoint.ipynb', LF will be replaced by CRLF the next time Git touches it\n",
      "warning: in the working copy of 'zmeczenieprojekt.ipynb', LF will be replaced by CRLF the next time Git touches it\n"
     ]
    }
   ],
   "source": [
    "!git add .\n"
   ]
  },
  {
   "cell_type": "code",
   "execution_count": null,
   "id": "13f63afa-5076-48f6-9235-91cff0c3b733",
   "metadata": {},
   "outputs": [],
   "source": []
  }
 ],
 "metadata": {
  "kernelspec": {
   "display_name": "Python 3 (ipykernel)",
   "language": "python",
   "name": "python3"
  },
  "language_info": {
   "codemirror_mode": {
    "name": "ipython",
    "version": 3
   },
   "file_extension": ".py",
   "mimetype": "text/x-python",
   "name": "python",
   "nbconvert_exporter": "python",
   "pygments_lexer": "ipython3",
   "version": "3.13.0"
  }
 },
 "nbformat": 4,
 "nbformat_minor": 5
}
