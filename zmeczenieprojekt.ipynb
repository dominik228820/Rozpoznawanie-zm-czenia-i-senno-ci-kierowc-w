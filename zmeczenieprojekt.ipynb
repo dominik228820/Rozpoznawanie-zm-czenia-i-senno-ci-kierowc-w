{
 "cells": [
  {
   "cell_type": "code",
   "execution_count": 10,
   "id": "6410994f-55b5-4ba6-bc91-464f5fb92236",
   "metadata": {
    "scrolled": true
   },
   "outputs": [],
   "source": [
    "\n",
    "import cv2 as cv \n",
    "import dlib  \n",
    "import numpy as np  \n",
    "import tensorflow as tf \n",
    "import matplotlib.pyplot as plt  \n",
    "from scipy.spatial import distance as dist \n",
    "import face_recognition as fr\n",
    "#----------------------------------------------ZMIENNE---------------------------------\n",
    "EYE_AR_THRESH, EYE_AR_CONSEC_FRAMES, OPEN_EYES_CONSEC_FRAMES = 0.25, 20, 20  #Próg zamknięcia oczu, liczba klatek przy zamkniętych, liczba klatek przy otwwartych\n",
    "yawn_treshhold = 0.7\n",
    "blink_counter, open_counter, count_yawn = 0, 0, 0 #flagi\n",
    "drowsy_alert = False #Flaga ostrzeżenia\n",
    "\n",
    "#-------------------------------------------FUNKCJE-------------------------------------\n",
    "#Funkcja obliczająca Eye Aspect Ratio\n",
    "ear = lambda eye: (dist.euclidean(eye[1], eye[5]) + dist.euclidean(eye[2], eye[4])) / (2.0 * dist.euclidean(eye[0], eye[3]))\n",
    "mar = lambda mouth: (dist.euclidean(mouth[2], mouth[10]) + dist.euclidean(mouth[4], mouth[8])) / (2.0 * dist.euclidean(mouth[0], mouth[6]))\n",
    "\n",
    "# def eye_aspect_ratio(eye):\n",
    "#     A = dist.euclidean(eye[1], eye[5])  #Odległość między górną i dolną powieką (wewnętrzna część oka)\n",
    "#     B = dist.euclidean(eye[2], eye[4])  #Odległość między górną i dolną powieką (zewnętrzna część oka)\n",
    "#     C = dist.euclidean(eye[0], eye[3])  #Odległość między kącikami oka\n",
    "#     return (A + B) / (2.0 * C)  #Wskaźnik EAR - im niższy, tym bardziej zamknięte oczy\n",
    "\n",
    "# def mouth_aspect_ratio(mouth):\n",
    "#     A = dist.euclidean(mouth[2], mouth[10])\n",
    "#     B = dist.euclidean(mouth[4], mouth[8])\n",
    "#     C = dist.euclidean(mouth[0], mouth[6])   \n",
    "#     return (A + B) / (2.0 * C)             \n",
    "\n",
    "#--------------------------------------------------------------------------------------\n",
    "\n",
    "#Inicjalizacja detektora twarzy, modelu predykcji, kamery\n",
    "detector = dlib.get_frontal_face_detector() \n",
    "#detector = dlib.cnn_face_detection_model_v1(\"mmod_human_face_detector.dat\") #CNN strasznie się zwiesza\n",
    "predictor = dlib.shape_predictor(\"shape_predictor_68_face_landmarks.dat\")\n",
    "cap = cv.VideoCapture(0) \n",
    "\n",
    "#Pobranie klatki obrazu z kamery\n",
    "while True:\n",
    "    ret, frame = cap.read()\n",
    "    if not ret:  \n",
    "        break\n",
    "\n",
    "    #Wykrywanie twarzy\n",
    "    gray = cv.cvtColor(frame, cv.COLOR_BGR2GRAY)\n",
    "    faces = detector(gray)\n",
    "\n",
    "    for face in faces:\n",
    "    #for face in detector(gray): #cnn\n",
    "        #Pobranie punktów charakterystycznych twarzy (oczy, nos, usta)\n",
    "        #rect = face.rect #cnn\n",
    "\n",
    "        landmarks = predictor(gray, face)\n",
    "        left_eye = np.array([(landmarks.part(i).x, landmarks.part(i).y) for i in range(36, 42)])\n",
    "        right_eye = np.array([(landmarks.part(i).x, landmarks.part(i).y) for i in range(42, 48)])\n",
    "        mouth_pts = np.array([(landmarks.part(i).x, landmarks.part(i).y) for i in range(48, 68)])\n",
    "        cv.rectangle(frame, (face.left(), face.top()), (face.right(), face.bottom()), (0, 0, 255), 2)\n",
    "\n",
    "        #Obliczenie wskaźnika EAR dla obu oczu, MAR dla ust\n",
    "        EAR = (ear(left_eye) + ear(right_eye)) / 2.0  \n",
    "        MAR = mar(mouth_pts)\n",
    "        # left_EAR = ear(left_eye)\n",
    "        # right_EAR = ear(right_eye)\n",
    "        # EAR = (left_EAR + right_EAR) / 2.0  # Średnia wartość EAR dla obu oczu\n",
    "        \n",
    "\n",
    "        if EAR<=EYE_AR_THRESH:\n",
    "            blink_counter+=1\n",
    "            open_counter=0\n",
    "        else:\n",
    "            blink_counter=0\n",
    "            open_counter+=1\n",
    "\n",
    "        #Ustawienie alertów\n",
    "        ear_alert = blink_counter>=EYE_AR_CONSEC_FRAMES\n",
    "        mar_alert = MAR >= yawn_treshhold\n",
    "        drowsy_alert = ear_alert or mar_alert\n",
    "\n",
    "        if open_counter >= OPEN_EYES_CONSEC_FRAMES and not mar_alert:\n",
    "            drowsy_alert = False\n",
    "\n",
    "    #Status senności + informacja\n",
    "    cv.putText(frame, f\"Sleepy: {drowsy_alert}\", (10, 30),\n",
    "    cv.FONT_HERSHEY_SIMPLEX, 0.7, (0, 0, 255), 2)\n",
    "    cv.putText(frame, f\"EAR: {EAR}\", (10, 60),\n",
    "    cv.FONT_HERSHEY_SIMPLEX, 0.5, (0, 255, 0), 2)\n",
    "    cv.putText(frame, f\"MAR: {MAR}\", (10, 90),\n",
    "    cv.FONT_HERSHEY_SIMPLEX, 0.5, (0, 255, 0), 2)\n",
    "    cv.putText(frame, f\"Mrugniecie: {blink_counter}\", (10, 120),\n",
    "    cv.FONT_HERSHEY_SIMPLEX, 0.5, (0, 255, 0), 2)\n",
    "    cv.putText(frame, f\"Otwarte oczy: {open_counter}\", (10, 150),\n",
    "    cv.FONT_HERSHEY_SIMPLEX, 0.5, (0, 255, 0), 2)\n",
    "\n",
    "\n",
    "    cv.imshow(\"Kamera\", frame)\n",
    "    if cv.waitKey(1) & 0xFF == ord('q'):\n",
    "        break\n",
    "\n",
    "cap.release()\n",
    "cv.destroyAllWindows()\n"
   ]
  },
  {
   "cell_type": "code",
   "execution_count": 19,
   "id": "460a34f3-6550-411b-b646-2634fa71995e",
   "metadata": {
    "scrolled": true
   },
   "outputs": [
    {
     "name": "stderr",
     "output_type": "stream",
     "text": [
      "warning: in the working copy of 'zmeczenieprojekt.ipynb', LF will be replaced by CRLF the next time Git touches it\n"
     ]
    }
   ],
   "source": [
    "!git add .\n"
   ]
  },
  {
   "cell_type": "code",
   "execution_count": null,
   "id": "13f63afa-5076-48f6-9235-91cff0c3b733",
   "metadata": {},
   "outputs": [],
   "source": []
  }
 ],
 "metadata": {
  "kernelspec": {
   "display_name": "opencv",
   "language": "python",
   "name": "python3"
  },
  "language_info": {
   "codemirror_mode": {
    "name": "ipython",
    "version": 3
   },
   "file_extension": ".py",
   "mimetype": "text/x-python",
   "name": "python",
   "nbconvert_exporter": "python",
   "pygments_lexer": "ipython3",
   "version": "3.11.11"
  }
 },
 "nbformat": 4,
 "nbformat_minor": 5
}
